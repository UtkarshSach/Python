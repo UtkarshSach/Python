{
 "cells": [
  {
   "cell_type": "code",
   "execution_count": 1,
   "id": "58e37922-f018-4936-9bfd-191af69c7055",
   "metadata": {
    "tags": []
   },
   "outputs": [
    {
     "name": "stdout",
     "output_type": "stream",
     "text": [
      "-------------------------------------------------\n",
      "[5 6 7 8]\n"
     ]
    }
   ],
   "source": [
    "import numpy as np   \n",
    " \n",
    "print(\"-------------------------------------------------\") \n",
    " \n",
    "# Create a NumPy array \n",
    "arr = np.array([1, 2, 3, 4, 5, 6, 7, 8, 9, 10]) \n",
    " \n",
    "# Define the range \n",
    "lower_bound = 5 \n",
    "upper_bound = 8 \n",
    " \n",
    "# Use conditional indexing to filter values within the range and print them \n",
    "print(arr[(arr >= lower_bound) & (arr <= upper_bound)])"
   ]
  },
  {
   "cell_type": "code",
   "execution_count": null,
   "id": "feefb5f9-95cf-4835-86e3-7e3b32087cb6",
   "metadata": {},
   "outputs": [],
   "source": []
  }
 ],
 "metadata": {
  "kernelspec": {
   "display_name": "Python 3 (ipykernel)",
   "language": "python",
   "name": "python3"
  },
  "language_info": {
   "codemirror_mode": {
    "name": "ipython",
    "version": 3
   },
   "file_extension": ".py",
   "mimetype": "text/x-python",
   "name": "python",
   "nbconvert_exporter": "python",
   "pygments_lexer": "ipython3",
   "version": "3.11.3"
  }
 },
 "nbformat": 4,
 "nbformat_minor": 5
}
