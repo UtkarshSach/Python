{
 "cells": [
  {
   "cell_type": "code",
   "execution_count": 1,
   "id": "ff7eaa23-d544-4a70-af23-9dcff420712d",
   "metadata": {
    "tags": []
   },
   "outputs": [
    {
     "name": "stdout",
     "output_type": "stream",
     "text": [
      "Monthly Averages: [43.66666667 47.26666667 54.43333333 62.375      70.05833333 76.50833333\n",
      " 81.85833333 81.63333333 73.69166667 63.85       53.6        45.45      ]\n",
      "Hottest Month: 7\n",
      "Coldest Month: 1\n",
      "Annual Average Temperature: 62.86597222222222\n"
     ]
    }
   ],
   "source": [
    "import numpy as np\n",
    "\n",
    "# Sample dataset of monthly temperatures (replace with your data)\n",
    "monthly_temperatures = np.array([\n",
    "[32.1, 34.5, 40.2, 48.7, 56.3, 63.8, 70.2, 70.1, 63.1, 53.5, 43.9, 35.0], # January\n",
    "[32.9, 35.8, 41.5, 49.7, 57.5, 64.8, 71.2, 71.1, 63.8, 54.2, 44.5, 35.7], # February\n",
    "[34.2, 37.4, 44.1, 52.2, 60.3, 67.2, 74.0, 74.1, 66.1, 56.2, 46.2, 37.4], # March\n",
    "[39.2, 42.5, 49.9, 58.2, 66.4, 73.2, 79.4, 79.0, 70.4, 60.1, 49.8, 41.1], # April\n",
    "[46.1, 49.9, 57.3, 65.4, 73.3, 79.9, 85.5, 85.3, 76.4, 66.0, 55.2, 47.0], # May\n",
    "[53.2, 57.5, 65.4, 73.2, 80.6, 86.7, 91.7, 91.3, 82.4, 72.5, 61.6, 54.1], # June\n",
    "[59.2, 63.4, 71.3, 79.1, 86.9, 92.5, 96.9, 96.4, 88.4, 78.5, 67.6, 60.0], # July\n",
    "[59.0, 63.0, 70.9, 78.6, 86.0, 91.8, 96.4, 96.2, 88.0, 78.3, 67.6, 59.6], # August\n",
    "[52.3, 56.6, 64.5, 72.4, 80.1, 86.4, 91.3, 91.2, 83.3, 73.5, 62.6, 54.8], # September\n",
    "[45.4, 49.4, 56.9, 64.8, 72.7, 78.8, 83.2, 82.8, 75.0, 65.2, 54.9, 47.1], # October\n",
    "[37.8, 41.4, 48.5, 56.2, 63.5, 69.9, 74.7, 74.5, 67.2, 57.3, 47.9, 39.5], # November\n",
    "[32.6, 35.8, 42.7, 50.0, 57.1, 63.1, 67.8, 67.6, 60.2, 50.9, 41.4, 34.1] # December\n",
    "])\n",
    "\n",
    "# Step 2: Calculate Monthly Averages\n",
    "monthly_averages = np.mean(monthly_temperatures, axis=0)\n",
    "\n",
    "# Step 3: Identify Hottest and Coldest Months\n",
    "hottest_month = np.argmax(monthly_averages) + 1 # Adding 1 to convert 0-based index to month number\n",
    "coldest_month = np.argmin(monthly_averages) + 1\n",
    "\n",
    "# Step 4: Determine Annual Temperature Trend\n",
    "annual_average = np.mean(monthly_averages)\n",
    "\n",
    "# Print results\n",
    "print(\"Monthly Averages:\", monthly_averages)\n",
    "print(\"Hottest Month:\", hottest_month)\n",
    "print(\"Coldest Month:\", coldest_month)\n",
    "print(\"Annual Average Temperature:\", annual_average)"
   ]
  },
  {
   "cell_type": "code",
   "execution_count": null,
   "id": "ebcefb50-bf9a-4b16-8bba-a48a527394d2",
   "metadata": {},
   "outputs": [],
   "source": []
  }
 ],
 "metadata": {
  "kernelspec": {
   "display_name": "Python 3 (ipykernel)",
   "language": "python",
   "name": "python3"
  },
  "language_info": {
   "codemirror_mode": {
    "name": "ipython",
    "version": 3
   },
   "file_extension": ".py",
   "mimetype": "text/x-python",
   "name": "python",
   "nbconvert_exporter": "python",
   "pygments_lexer": "ipython3",
   "version": "3.11.3"
  }
 },
 "nbformat": 4,
 "nbformat_minor": 5
}
