{
 "cells": [
  {
   "cell_type": "code",
   "execution_count": 2,
   "id": "4fe23363-2ca9-462c-9f49-09bf55736927",
   "metadata": {
    "tags": []
   },
   "outputs": [
    {
     "name": "stdin",
     "output_type": "stream",
     "text": [
      "Enter smaller number:  5\n",
      "Enter greater number:  9\n"
     ]
    },
    {
     "name": "stdout",
     "output_type": "stream",
     "text": [
      "Numbers between  5.0  and  9.0  are:  [6 7 8]\n"
     ]
    }
   ],
   "source": [
    "import numpy as np\n",
    "arr=np.array([[1,2,3],[4,5,6],[7,8,9]]) \n",
    "a=float(input(\"Enter smaller number: \")) \n",
    "b=float(input(\"Enter greater number: \")) \n",
    "print(\"Numbers between \",a,\" and \",b,\" are: \", arr[arr>a][arr[arr>a]<b])"
   ]
  },
  {
   "cell_type": "code",
   "execution_count": null,
   "id": "bece0729-07c6-46ef-8713-6775a7ba82bf",
   "metadata": {},
   "outputs": [],
   "source": []
  }
 ],
 "metadata": {
  "kernelspec": {
   "display_name": "Python 3 (ipykernel)",
   "language": "python",
   "name": "python3"
  },
  "language_info": {
   "codemirror_mode": {
    "name": "ipython",
    "version": 3
   },
   "file_extension": ".py",
   "mimetype": "text/x-python",
   "name": "python",
   "nbconvert_exporter": "python",
   "pygments_lexer": "ipython3",
   "version": "3.11.3"
  }
 },
 "nbformat": 4,
 "nbformat_minor": 5
}
