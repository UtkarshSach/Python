{
 "cells": [
  {
   "cell_type": "code",
   "execution_count": 2,
   "id": "620d913e-1454-48eb-b400-7ce5bd92c1ab",
   "metadata": {
    "tags": []
   },
   "outputs": [
    {
     "name": "stdout",
     "output_type": "stream",
     "text": [
      "original array: \n",
      "[[5.54 3.38 7.99]\n",
      " [3.54 4.38 6.99]\n",
      " [1.54 2.39 9.29]]\n",
      "\n",
      "Elements of the said array greater than 5\n",
      "[5.54 7.99 6.99 9.29]\n",
      "\n",
      "Elements of the said array less than 6\n",
      "[5.54 3.38 3.54 4.38 1.54 2.39]\n"
     ]
    }
   ],
   "source": [
    "#write  a numpy program to extract all numbers from a given array less and greater than a specified numbers.\n",
    "\n",
    "import numpy as np\n",
    "nums=np.array([\n",
    "              [5.54,3.38,7.99],\n",
    "              [3.54,4.38,6.99],\n",
    "              [1.54,2.39,9.29]\n",
    "])\n",
    "print(\"original array: \")\n",
    "print(nums)\n",
    "n=5\n",
    "\n",
    "print(\"\\nElements of the said array greater than\", n)\n",
    "print(nums[nums>n])\n",
    "n=6\n",
    "\n",
    "print(\"\\nElements of the said array less than\", n)\n",
    "print(nums[nums<n])\n"
   ]
  },
  {
   "cell_type": "code",
   "execution_count": null,
   "id": "560d04fb-18d8-415f-a216-e4b2868945e8",
   "metadata": {},
   "outputs": [],
   "source": []
  }
 ],
 "metadata": {
  "kernelspec": {
   "display_name": "Python 3 (ipykernel)",
   "language": "python",
   "name": "python3"
  },
  "language_info": {
   "codemirror_mode": {
    "name": "ipython",
    "version": 3
   },
   "file_extension": ".py",
   "mimetype": "text/x-python",
   "name": "python",
   "nbconvert_exporter": "python",
   "pygments_lexer": "ipython3",
   "version": "3.11.3"
  }
 },
 "nbformat": 4,
 "nbformat_minor": 5
}
