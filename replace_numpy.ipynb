{
 "cells": [
  {
   "cell_type": "code",
   "execution_count": 5,
   "id": "b42cb6fd-1833-4395-8728-5465c818396b",
   "metadata": {
    "tags": []
   },
   "outputs": [
    {
     "name": "stdin",
     "output_type": "stream",
     "text": [
      "Enter the number:  5\n",
      "Enter the number to be replaced:  500\n"
     ]
    },
    {
     "name": "stdout",
     "output_type": "stream",
     "text": [
      "[  1   2   2   3   4 500 500 500   6   7   8]\n"
     ]
    }
   ],
   "source": [
    "# write a numpy program to replace all numbers in a given array equal, less and greater than a given number.\n",
    "\n",
    "import numpy as np\n",
    "temp=np.array([1,2,2,3,4,5,5,5,6,7,8])\n",
    "p=float(input(\"Enter the number: \"))\n",
    "q=float(input(\"Enter the number to be replaced: \"))\n",
    "temp[temp==p]=q\n",
    "#temp[temp>p]=q\n",
    "#temp[temp<p]=q\n",
    "print(temp)"
   ]
  },
  {
   "cell_type": "code",
   "execution_count": null,
   "id": "99a690c9-749d-4b7d-b974-67e81bb8361a",
   "metadata": {},
   "outputs": [],
   "source": []
  }
 ],
 "metadata": {
  "kernelspec": {
   "display_name": "Python 3 (ipykernel)",
   "language": "python",
   "name": "python3"
  },
  "language_info": {
   "codemirror_mode": {
    "name": "ipython",
    "version": 3
   },
   "file_extension": ".py",
   "mimetype": "text/x-python",
   "name": "python",
   "nbconvert_exporter": "python",
   "pygments_lexer": "ipython3",
   "version": "3.11.3"
  }
 },
 "nbformat": 4,
 "nbformat_minor": 5
}
